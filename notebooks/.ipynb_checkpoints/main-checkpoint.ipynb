{
 "cells": [
  {
   "cell_type": "code",
   "execution_count": 1,
   "id": "013cef88-6fe7-4895-b42c-99a6b107159c",
   "metadata": {},
   "outputs": [
    {
     "name": "stdout",
     "output_type": "stream",
     "text": [
      "Application started \n",
      "\n"
     ]
    }
   ],
   "source": [
    "# RAG APP for End Time Message\n",
    "\n",
    "import getpass\n",
    "import os\n",
    "from dotenv import load_dotenv\n",
    "\n",
    "# Load environment variables from .env file\n",
    "load_dotenv()\n",
    "\n",
    "# Set up Langsmith for tracing\n",
    "print(\"Application started \\n\")\n",
    "os.environ[\"LANGSMITH_TRACING\"] = \"true\"\n",
    "os.environ[\"LANGSMITH_ENDPOINT\"] = \"https://eu.api.smith.langchain.com\"\n",
    "os.environ['USER_AGENT'] = 'MESSAGE_RAG_APP_AGENT'\n",
    "if not os.environ.get(\"LANGSMITH_API_KEY\"):\n",
    "    os.environ[\"LANGSMITH_API_KEY\"] = getpass.getpass()"
   ]
  },
  {
   "cell_type": "code",
   "execution_count": 2,
   "id": "76073e82-3c48-4c3d-b0e7-cd8936736c8f",
   "metadata": {},
   "outputs": [],
   "source": [
    "# Set up chat model\n",
    "if not os.environ.get(\"GOOGLE_API_KEY\"):\n",
    "  os.environ[\"GOOGLE_API_KEY\"] = getpass.getpass(\"Enter API key for Google Gemini: \")\n",
    "\n",
    "from langchain.chat_models import init_chat_model\n",
    "\n",
    "llm = init_chat_model(\"gemini-2.0-flash\", model_provider=\"google_genai\")"
   ]
  },
  {
   "cell_type": "code",
   "execution_count": 3,
   "id": "77264ed8-1b18-4031-9f29-a644585ebeda",
   "metadata": {},
   "outputs": [],
   "source": [
    "# Set up embeddings model\n",
    "\n",
    "if not os.environ.get(\"GOOGLE_API_KEY\"):\n",
    "  os.environ[\"GOOGLE_API_KEY\"] = getpass.getpass(\"Enter API key for Google Gemini: \")\n",
    "\n",
    "from langchain_google_genai import GoogleGenerativeAIEmbeddings\n",
    "\n",
    "embeddings = GoogleGenerativeAIEmbeddings(model=\"models/embedding-001\")"
   ]
  },
  {
   "cell_type": "code",
   "execution_count": 4,
   "id": "0522a268-bd29-422b-981b-4eaf482d7456",
   "metadata": {},
   "outputs": [],
   "source": [
    "from langchain_mongodb import MongoDBAtlasVectorSearch\n",
    "from pymongo import MongoClient\n",
    "import getpass\n",
    "import os\n",
    "\n",
    "# Set up MongoDB connection\n",
    "if not os.environ.get(\"MONGODB_URI\"):\n",
    "    os.environ[\"MONGODB_URI\"] = getpass.getpass(\"Enter your MongoDB connection string: \")\n",
    "\n",
    "if not os.environ.get(\"MONGODB_DATABASE\"):\n",
    "    os.environ[\"MONGODB_DATABASE\"] = getpass.getpass(\"Enter your MongoDB database name: \")\n",
    "\n",
    "if not os.environ.get(\"MONGODB_COLLECTION\"):\n",
    "    os.environ[\"MONGODB_COLLECTION\"] = getpass.getpass(\"Enter your MongoDB collection name: \")\n",
    "\n",
    "if not os.environ.get(\"ATLAS_VECTOR_SEARCH_INDEX_NAME\"):\n",
    "    os.environ[\"ATLAS_VECTOR_SEARCH_INDEX_NAME\"] = getpass.getpass(\"Enter your MongoDB vector search index name: \")\n",
    "\n",
    "# Initialize MongoDB client\n",
    "client = MongoClient(os.environ.get(\"MONGODB_URI\"))\n",
    "db = client[os.environ.get(\"MONGODB_DATABASE\")]\n",
    "collection = db[os.environ.get(\"MONGODB_COLLECTION\")]\n",
    "\n",
    "# Set up vector store\n",
    "vector_store = MongoDBAtlasVectorSearch(\n",
    "    embedding=embeddings,\n",
    "    collection=collection,  # Pass the collection object, not a string\n",
    "    index_name=os.environ.get(\"ATLAS_VECTOR_SEARCH_INDEX_NAME\"),\n",
    "    relevance_score_fn=\"cosine\",\n",
    ")"
   ]
  },
  {
   "cell_type": "code",
   "execution_count": 5,
   "id": "cac000b8-9ecb-4b82-bf0c-fa0e3113bb11",
   "metadata": {},
   "outputs": [
    {
     "name": "stdout",
     "output_type": "stream",
     "text": [
      "Retrieving distinct filenames from MongoDB\n",
      "\n",
      "\n",
      "Distinct filenames retrieved\n",
      "\n",
      "\n",
      "\n",
      "\n",
      "Loading documents\n",
      "\n",
      "\n",
      "\n",
      "\n",
      "Finding all pdfs\n",
      "\n",
      "\n",
      "Loading 65-0124 Birth Pains VGR.pdf\n"
     ]
    },
    {
     "name": "stderr",
     "output_type": "stream",
     "text": [
      "/Users/cdetcham/Projects/RAG/MessageSearchApp/.venv/lib/python3.11/site-packages/tqdm/auto.py:21: TqdmWarning: IProgress not found. Please update jupyter and ipywidgets. See https://ipywidgets.readthedocs.io/en/stable/user_install.html\n",
      "  from .autonotebook import tqdm as notebook_tqdm\n",
      "INFO: pikepdf C++ to Python logger bridge initialized\n",
      "INFO: Reading PDF for file: /Users/cdetcham/Projects/RAG/MessageSearchApp/data/65/65-0124 Birth Pains VGR.pdf ...\n"
     ]
    },
    {
     "name": "stdout",
     "output_type": "stream",
     "text": [
      "Total characters: 11\n",
      "Documents splits are ready to be stored\n",
      "\n",
      "\n"
     ]
    }
   ],
   "source": [
    "from typing import Literal\n",
    "\n",
    "import bs4\n",
    "from langchain import hub\n",
    "from langchain_community.document_loaders import WebBaseLoader\n",
    "from langchain_core.documents import Document\n",
    "from langchain_core.vectorstores import InMemoryVectorStore\n",
    "from langchain_text_splitters import RecursiveCharacterTextSplitter\n",
    "from langgraph.graph import START, StateGraph\n",
    "from typing_extensions import Annotated, List, TypedDict\n",
    "from langchain_core.tools import tool\n",
    "from langchain_core.messages import SystemMessage\n",
    "from langgraph.prebuilt import ToolNode\n",
    "from langgraph.graph import END\n",
    "from langgraph.prebuilt import ToolNode, tools_condition\n",
    "from langgraph.graph import MessagesState, StateGraph\n",
    "from langgraph.checkpoint.memory import MemorySaver\n",
    "\n",
    "import sys\n",
    "from pathlib import Path\n",
    "\n",
    "# Add project root to Python path\n",
    "project_root = Path().resolve().parent\n",
    "sys.path.append(str(project_root))\n",
    "from src.document_utilities import find_all_pdfs, load_documents\n",
    "from src.db_utilities import get_distinct_filenames\n",
    "\n",
    "\n",
    "# Load and chunk contents of the sermons\n",
    "exclude = get_distinct_filenames(os.environ.get(\"MONGODB_URI\"), os.environ.get(\"MONGODB_DATABASE\"), os.environ.get(\"MONGODB_COLLECTION\"))\n",
    "data_dir = Path().resolve().parent / \"data\"\n",
    "docs = load_documents(str(data_dir), exclude)\n",
    "\n",
    "print(f\"Total characters: {len(docs[0].page_content)}\")\n",
    "\n",
    "text_splitter = RecursiveCharacterTextSplitter(chunk_size=1000, chunk_overlap=200)\n",
    "all_splits = text_splitter.split_documents(docs)\n",
    "print(\"Documents splits are ready to be stored\\n\\n\")\n",
    "\n",
    "# Update metadata\n",
    "for i, document in enumerate(all_splits):\n",
    "    file_name = document.metadata.get('filename')\n",
    "    if  file_name is not None:\n",
    "        document.metadata[\"title\"] = file_name.split(\" VGR\")[0]\n",
    "    \n"
   ]
  },
  {
   "cell_type": "code",
   "execution_count": 6,
   "id": "468511b0-cf22-4879-b1dd-dc4a5b6b9944",
   "metadata": {},
   "outputs": [
    {
     "name": "stdout",
     "output_type": "stream",
     "text": [
      "page_content='BIRTH PAINS' metadata={'source': '/Users/cdetcham/Projects/RAG/MessageSearchApp/data/65/65-0124 Birth Pains VGR.pdf', 'detection_class_prob': 0.6229148507118225, 'coordinates': {'points': ((np.float64(386.5027777777778), np.float64(150.38137817382812)), (np.float64(386.5027777777778), np.float64(213.64116722222218)), (np.float64(694.6928622222222), np.float64(213.64116722222218)), (np.float64(694.6928622222222), np.float64(150.38137817382812))), 'system': 'PixelSpace', 'layout_width': 1088, 'layout_height': 1675}, 'last_modified': '2025-07-14T13:36:30', 'filetype': 'application/pdf', 'languages': ['eng'], 'page_number': 1, 'file_directory': '/Users/cdetcham/Projects/RAG/MessageSearchApp/data/65', 'filename': '65-0124 Birth Pains VGR.pdf', 'category': 'Title', 'element_id': '853a9d14c166cc6287d300759c97b787', 'title': '65-0124 Birth Pains'}\n",
      "Completed storage\n",
      "\n",
      "\n"
     ]
    }
   ],
   "source": [
    "# Index chunks\n",
    "print(all_splits[0])\n",
    "# collection.delete_many({}) # Clear the existing collection to avoid duplicates\n",
    "_ = vector_store.add_documents(documents=all_splits)\n",
    "# sample_doc = collection.find_one()\n",
    "# print(sample_doc)\n",
    "print(\"Completed storage\\n\\n\")"
   ]
  },
  {
   "cell_type": "code",
   "execution_count": 7,
   "id": "2e4d355b-541b-483f-9a9e-b90931a1c714",
   "metadata": {},
   "outputs": [
    {
     "data": {
      "image/png": "[encoded data removed]",
      "text/plain": [
       "<IPython.core.display.Image object>"
      ]
     },
     "metadata": {},
     "output_type": "display_data"
    }
   ],
   "source": [
    "# Define schema for search\n",
    "class Search(TypedDict):\n",
    "    \"\"\"Search query.\"\"\"\n",
    "\n",
    "    query: Annotated[str, ..., \"Search query to run.\"]\n",
    "    section: Annotated[\n",
    "        Literal[\"beginning\", \"middle\", \"end\"],\n",
    "        ...,\n",
    "        \"Section to query.\",\n",
    "    ]\n",
    "\n",
    "prompt = hub.pull(\"rlm/rag-prompt\", api_url=\"https://api.smith.langchain.com\")\n",
    "# Define state for application\n",
    "class State(TypedDict):\n",
    "    question: str\n",
    "    query: Search\n",
    "    context: List[Document]\n",
    "    answer: str\n",
    "\n",
    "\n",
    "def analyze_query(state: State):\n",
    "    structured_llm = llm.with_structured_output(Search)\n",
    "    query = structured_llm.invoke(state[\"question\"])\n",
    "    return {\"query\": query}\n",
    "    \n",
    "\n",
    "@tool(response_format=\"content_and_artifact\")\n",
    "def retrieve(query: str):\n",
    "    \"\"\"Retrieve information related to a query.\"\"\"\n",
    "    retrieved_docs = vector_store.similarity_search(query, k=2)\n",
    "    serialized = \"\\n\\n\".join(\n",
    "        (f\"Source: {doc.metadata}\\n\" f\"Content: {doc.page_content}\")\n",
    "        for doc in retrieved_docs\n",
    "    )\n",
    "    return serialized, retrieved_docs\n",
    "\n",
    "\n",
    "# Step 1: Generate an AIMessage that may include a tool-call to be sent.\n",
    "def query_or_respond(state: MessagesState):\n",
    "    \"\"\"Generate tool call for retrieval or respond.\"\"\"\n",
    "    llm_with_tools = llm.bind_tools([retrieve])\n",
    "    response = llm_with_tools.invoke(state[\"messages\"])\n",
    "    # MessagesState appends messages to state instead of overwriting\n",
    "    return {\"messages\": [response]}\n",
    "\n",
    "\n",
    "# Step 2: Execute the retrieval.\n",
    "tools = ToolNode([retrieve])\n",
    "\n",
    "\n",
    "# Step 3: Generate a response using the retrieved content.\n",
    "def generate(state: MessagesState):\n",
    "    \"\"\"Generate answer.\"\"\"\n",
    "    # Get generated ToolMessages\n",
    "    recent_tool_messages = []\n",
    "    for message in reversed(state[\"messages\"]):\n",
    "        if message.type == \"tool\":\n",
    "            recent_tool_messages.append(message)\n",
    "        else:\n",
    "            break\n",
    "    tool_messages = recent_tool_messages[::-1]\n",
    "\n",
    "    # Format into prompt\n",
    "    docs_content = \"\\n\\n\".join(doc.content for doc in tool_messages)\n",
    "    system_message_content = (\n",
    "        \"You are an assistant for question-answering tasks. \"\n",
    "        \"Use the following pieces of retrieved context to answer the question.\"\n",
    "        \"The content you are provided with are sermons preached by reverend William Marrion Branham,\"\n",
    "        \"sometimes refered to as brother Branham or brother Bill.\"\n",
    "        \"If you don't know the answer, say that you \"\n",
    "        \"don't know. Use five sentences maximum and keep the \"\n",
    "        \"answer concise.\"\n",
    "        \"\\n\\n\"\n",
    "        f\"{docs_content}\"\n",
    "    )\n",
    "    conversation_messages = [\n",
    "        message\n",
    "        for message in state[\"messages\"]\n",
    "        if message.type in (\"human\", \"system\")\n",
    "        or (message.type == \"ai\" and not message.tool_calls)\n",
    "    ]\n",
    "    prompt = [SystemMessage(system_message_content)] + conversation_messages\n",
    "\n",
    "    # Run\n",
    "    response = llm.invoke(prompt)\n",
    "    return {\"messages\": [response]}\n",
    "\n",
    "\n",
    "# graph_builder = StateGraph(State).add_sequence([analyze_query, retrieve, generate])\n",
    "# graph_builder.add_edge(START, \"analyze_query\")\n",
    "# graph = graph_builder.compile()\n",
    "\n",
    "graph_builder = StateGraph(MessagesState)\n",
    "\n",
    "graph_builder.add_node(query_or_respond)\n",
    "graph_builder.add_node(tools)\n",
    "graph_builder.add_node(generate)\n",
    "\n",
    "graph_builder.set_entry_point(\"query_or_respond\")\n",
    "graph_builder.add_conditional_edges(\n",
    "    \"query_or_respond\",\n",
    "    tools_condition,\n",
    "    {END: END, \"tools\": \"tools\"},\n",
    ")\n",
    "graph_builder.add_edge(\"tools\", \"generate\")\n",
    "graph_builder.add_edge(\"generate\", END)\n",
    "\n",
    "memory = MemorySaver()\n",
    "graph = graph_builder.compile(checkpointer=memory)\n",
    "\n",
    "from IPython.display import Image, display\n",
    "\n",
    "display(Image(graph.get_graph().draw_mermaid_png()))\n",
    "\n",
    "# Specify an ID for the thread\n",
    "config = {\"configurable\": {\"thread_id\": \"abc123\"}}"
   ]
  },
  {
   "cell_type": "code",
   "execution_count": 10,
   "id": "cc0210c2-a59e-4795-8521-cf81fe74c167",
   "metadata": {},
   "outputs": [
    {
     "name": "stdin",
     "output_type": "stream",
     "text": [
      "Enter your query (or 'stop' to exit):  Can you summarize the birth pain sermon for me?\n"
     ]
    },
    {
     "name": "stdout",
     "output_type": "stream",
     "text": [
      "================================\u001b[1m Human Message \u001b[0m=================================\n",
      "\n",
      "Can you summarize the birth pain sermon for me?\n",
      "==================================\u001b[1m Ai Message \u001b[0m==================================\n",
      "Tool Calls:\n",
      "  retrieve (199037a6-3d97-408c-b854-0eefa5f5ebf6)\n",
      " Call ID: 199037a6-3d97-408c-b854-0eefa5f5ebf6\n",
      "  Args:\n",
      "    query: summary of the birth pain sermon\n",
      "=================================\u001b[1m Tool Message \u001b[0m=================================\n",
      "Name: retrieve\n",
      "\n",
      "Source: {'_id': '6877a40323ce00d6d2f9f261', 'source': '/Users/cdetcham/Projects/RAG/MessageSearchApp/data/65/65-0124 Birth Pains VGR.pdf', 'detection_class_prob': 0.6089565753936768, 'coordinates': {'points': [[90.61944444444444, 98.97449493408203], [90.61944444444444, 127.40795135498047], [252.24073791503906, 127.40795135498047], [252.24073791503906, 98.97449493408203]], 'system': 'PixelSpace', 'layout_width': 1088, 'layout_height': 1675}, 'last_modified': '2025-07-14T13:36:30', 'filetype': 'application/pdf', 'languages': ['eng'], 'page_number': 9, 'parent_id': '99ed0e8ce3ab7c04ef6ea8b343c9a3c7', 'file_directory': '/Users/cdetcham/Projects/RAG/MessageSearchApp/data/65', 'filename': '65-0124 Birth Pains VGR.pdf', 'category': 'Title', 'element_id': '4182e951f3ae746d0e9019945cea7ea3', 'title': '65-0124 Birth Pains'}\n",
      "Content: BIRTH PAINS\n",
      "\n",
      "Source: {'_id': '6877a40323ce00d6d2f9f24b', 'source': '/Users/cdetcham/Projects/RAG/MessageSearchApp/data/65/65-0124 Birth Pains VGR.pdf', 'detection_class_prob': 0.6317538022994995, 'coordinates': {'points': [[90.61944444444444, 98.93074798583984], [90.61944444444444, 127.5024185180664], [252.33465576171875, 127.5024185180664], [252.33465576171875, 98.93074798583984]], 'system': 'PixelSpace', 'layout_width': 1088, 'layout_height': 1675}, 'last_modified': '2025-07-14T13:36:30', 'filetype': 'application/pdf', 'languages': ['eng'], 'page_number': 7, 'parent_id': '8f8f1a09b3c392caf55b6bf1f5bdf9e3', 'file_directory': '/Users/cdetcham/Projects/RAG/MessageSearchApp/data/65', 'filename': '65-0124 Birth Pains VGR.pdf', 'category': 'Title', 'element_id': 'e7e601b704e27812d87a0bb742d8eb4b', 'title': '65-0124 Birth Pains'}\n",
      "Content: BIRTH PAINS\n",
      "==================================\u001b[1m Ai Message \u001b[0m==================================\n",
      "\n",
      "I am unable to summarize the sermon because the context provided only contains the title \"Birth Pains\" from the document 65-0124 Birth Pains VGR.pdf. There is no further information available in the retrieved context to provide a summary.\n"
     ]
    },
    {
     "name": "stdin",
     "output_type": "stream",
     "text": [
      "Enter your query (or 'stop' to exit):  What does bro Branham say about birth pains?\n"
     ]
    },
    {
     "name": "stdout",
     "output_type": "stream",
     "text": [
      "================================\u001b[1m Human Message \u001b[0m=================================\n",
      "\n",
      "What does bro Branham say about birth pains?\n",
      "==================================\u001b[1m Ai Message \u001b[0m==================================\n",
      "Tool Calls:\n",
      "  retrieve (5838d250-6eec-4a7a-8875-03d30c6d1758)\n",
      " Call ID: 5838d250-6eec-4a7a-8875-03d30c6d1758\n",
      "  Args:\n",
      "    query: What does bro Branham say about birth pains?\n",
      "=================================\u001b[1m Tool Message \u001b[0m=================================\n",
      "Name: retrieve\n",
      "\n",
      "Source: {'_id': '6877a40323ce00d6d2f9f261', 'source': '/Users/cdetcham/Projects/RAG/MessageSearchApp/data/65/65-0124 Birth Pains VGR.pdf', 'detection_class_prob': 0.6089565753936768, 'coordinates': {'points': [[90.61944444444444, 98.97449493408203], [90.61944444444444, 127.40795135498047], [252.24073791503906, 127.40795135498047], [252.24073791503906, 98.97449493408203]], 'system': 'PixelSpace', 'layout_width': 1088, 'layout_height': 1675}, 'last_modified': '2025-07-14T13:36:30', 'filetype': 'application/pdf', 'languages': ['eng'], 'page_number': 9, 'parent_id': '99ed0e8ce3ab7c04ef6ea8b343c9a3c7', 'file_directory': '/Users/cdetcham/Projects/RAG/MessageSearchApp/data/65', 'filename': '65-0124 Birth Pains VGR.pdf', 'category': 'Title', 'element_id': '4182e951f3ae746d0e9019945cea7ea3', 'title': '65-0124 Birth Pains'}\n",
      "Content: BIRTH PAINS\n",
      "\n",
      "Source: {'_id': '6877a40323ce00d6d2f9f24b', 'source': '/Users/cdetcham/Projects/RAG/MessageSearchApp/data/65/65-0124 Birth Pains VGR.pdf', 'detection_class_prob': 0.6317538022994995, 'coordinates': {'points': [[90.61944444444444, 98.93074798583984], [90.61944444444444, 127.5024185180664], [252.33465576171875, 127.5024185180664], [252.33465576171875, 98.93074798583984]], 'system': 'PixelSpace', 'layout_width': 1088, 'layout_height': 1675}, 'last_modified': '2025-07-14T13:36:30', 'filetype': 'application/pdf', 'languages': ['eng'], 'page_number': 7, 'parent_id': '8f8f1a09b3c392caf55b6bf1f5bdf9e3', 'file_directory': '/Users/cdetcham/Projects/RAG/MessageSearchApp/data/65', 'filename': '65-0124 Birth Pains VGR.pdf', 'category': 'Title', 'element_id': 'e7e601b704e27812d87a0bb742d8eb4b', 'title': '65-0124 Birth Pains'}\n",
      "Content: BIRTH PAINS\n",
      "==================================\u001b[1m Ai Message \u001b[0m==================================\n",
      "\n",
      "I am unable to answer this question. The retrieved context only contains the title \"Birth Pains\" from the document 65-0124 Birth Pains VGR.pdf. Brother Branham might have preached about it, but there is no content available in the retrieved context about what he said about it.\n"
     ]
    },
    {
     "name": "stdin",
     "output_type": "stream",
     "text": [
      "Enter your query (or 'stop' to exit):  stop\n"
     ]
    }
   ],
   "source": [
    "input_message = input(\"Enter your query (or 'stop' to exit): \").strip()\n",
    "while input_message.lower() != \"stop\":\n",
    "    try:\n",
    "        for step in graph.stream(\n",
    "            {\"messages\": [{\"role\": \"user\", \"content\": input_message}]},\n",
    "            stream_mode=\"values\",\n",
    "            config=config,\n",
    "        ):\n",
    "            step[\"messages\"][-1].pretty_print()\n",
    "    except Exception as e:\n",
    "        print(f\"Error processing query: {e}\")\n",
    "    input_message = input(\"Enter your query (or 'stop' to exit): \").strip()\n"
   ]
  },
  {
   "cell_type": "code",
   "execution_count": null,
   "id": "8b4ce8ed-58a2-420f-850d-df1c4b914efd",
   "metadata": {},
   "outputs": [],
   "source": []
  }
 ],
 "metadata": {
  "kernelspec": {
   "display_name": "Python 3 (ipykernel)",
   "language": "python",
   "name": "python3"
  },
  "language_info": {
   "codemirror_mode": {
    "name": "ipython",
    "version": 3
   },
   "file_extension": ".py",
   "mimetype": "text/x-python",
   "name": "python",
   "nbconvert_exporter": "python",
   "pygments_lexer": "ipython3",
   "version": "3.11.3"
  }
 },
 "nbformat": 4,
 "nbformat_minor": 5
}
